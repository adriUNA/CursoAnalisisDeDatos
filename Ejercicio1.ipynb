{
  "nbformat": 4,
  "nbformat_minor": 0,
  "metadata": {
    "colab": {
      "provenance": [],
      "authorship_tag": "ABX9TyNGiL6jGDAEzdB1tGP30X2P",
      "include_colab_link": true
    },
    "kernelspec": {
      "name": "python3",
      "display_name": "Python 3"
    },
    "language_info": {
      "name": "python"
    }
  },
  "cells": [
    {
      "cell_type": "markdown",
      "metadata": {
        "id": "view-in-github",
        "colab_type": "text"
      },
      "source": [
        "<a href=\"https://colab.research.google.com/github/adriUNA/LaboratoriosCursoAnalisisDeDatos/blob/main/Ejercicio1.ipynb\" target=\"_parent\"><img src=\"https://colab.research.google.com/assets/colab-badge.svg\" alt=\"Open In Colab\"/></a>"
      ]
    },
    {
      "cell_type": "code",
      "execution_count": null,
      "metadata": {
        "colab": {
          "base_uri": "https://localhost:8080/"
        },
        "id": "WlBW7JeywHu_",
        "outputId": "bbe49f34-8b91-40df-c4e8-7011cd8c91b4"
      },
      "outputs": [
        {
          "output_type": "stream",
          "name": "stdout",
          "text": [
            "El numero es:  7\n",
            "el numero es impar\n"
          ]
        }
      ],
      "source": [
        "num = 7\n",
        "print (\"El numero es: \",num)\n",
        "\n",
        "if num % 2 == 0:\n",
        "  print (\"El numero es par\")\n",
        "else:\n",
        "  print (\"el numero es impar\")"
      ]
    },
    {
      "cell_type": "code",
      "source": [
        "r=10\n",
        "resultado = 3.14 * r * r;\n",
        "print (\"Radio de círculo: \",r)\n",
        "print (\"El resultado del area del círculo es: \",resultado)"
      ],
      "metadata": {
        "colab": {
          "base_uri": "https://localhost:8080/"
        },
        "id": "H0C4vMJb1iC7",
        "outputId": "62f5a0e6-dbde-413d-b89c-6e4f0fb7c111"
      },
      "execution_count": null,
      "outputs": [
        {
          "output_type": "stream",
          "name": "stdout",
          "text": [
            "Radio de círculo:  10\n",
            "El resultado del area del círculo es:  314.0\n"
          ]
        }
      ]
    }
  ]
}