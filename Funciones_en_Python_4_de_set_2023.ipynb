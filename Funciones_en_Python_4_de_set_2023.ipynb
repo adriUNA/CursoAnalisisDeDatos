{
  "nbformat": 4,
  "nbformat_minor": 0,
  "metadata": {
    "colab": {
      "provenance": [],
      "authorship_tag": "ABX9TyNUPHGJXoZiMos8Fo2RIjrk",
      "include_colab_link": true
    },
    "kernelspec": {
      "name": "python3",
      "display_name": "Python 3"
    },
    "language_info": {
      "name": "python"
    }
  },
  "cells": [
    {
      "cell_type": "markdown",
      "metadata": {
        "id": "view-in-github",
        "colab_type": "text"
      },
      "source": [
        "<a href=\"https://colab.research.google.com/github/adriUNA/LaboratoriosCursoAnalisisDeDatos/blob/main/Funciones_en_Python_4_de_set_2023.ipynb\" target=\"_parent\"><img src=\"https://colab.research.google.com/assets/colab-badge.svg\" alt=\"Open In Colab\"/></a>"
      ]
    },
    {
      "cell_type": "code",
      "execution_count": null,
      "metadata": {
        "colab": {
          "base_uri": "https://localhost:8080/"
        },
        "id": "bQEnevBk-fuk",
        "outputId": "4395437d-5a10-4d6a-e170-e86873703df5"
      },
      "outputs": [
        {
          "output_type": "stream",
          "name": "stdout",
          "text": [
            "Radio:  3.5\n",
            "Area:  38.48451000647496\n",
            "Perimetro:  21.991148575128552\n"
          ]
        }
      ],
      "source": [
        "import math\n",
        "\n",
        "def calcular_area_circulo(radio):\n",
        "  return math.pi *radio **2\n",
        "def calcular_perimetro_circulo(radio):\n",
        "  return 2*math.pi * radio\n",
        "radio=3.5\n",
        "area=calcular_area_circulo(radio)\n",
        "perimetro=calcular_perimetro_circulo(radio)\n",
        "\n",
        "print(\"Radio: \",radio)\n",
        "print(\"Area: \",area)\n",
        "print(\"Perimetro: \",perimetro)"
      ]
    }
  ]
}